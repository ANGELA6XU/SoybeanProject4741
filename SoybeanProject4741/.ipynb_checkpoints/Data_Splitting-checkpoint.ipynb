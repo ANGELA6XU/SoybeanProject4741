{
 "cells": [
  {
   "cell_type": "code",
   "execution_count": 1,
   "metadata": {
    "collapsed": true
   },
   "outputs": [],
   "source": [
    "# Code to split data into \n",
    "# 80% Training, 20% Test, and Class of 2014 stuff"
   ]
  },
  {
   "cell_type": "code",
   "execution_count": 2,
   "metadata": {
    "collapsed": true
   },
   "outputs": [],
   "source": [
    "using PyPlot, Compat, DataFrames"
   ]
  },
  {
   "cell_type": "code",
   "execution_count": 3,
   "metadata": {
    "collapsed": false
   },
   "outputs": [],
   "source": [
    "dataDirectory = \"Student_Team_Competition_Syngenta_Data/\";\n",
    "file = \"EXPERIMENT DATA CSV (Cleaned).csv\";\n",
    "readData = dataDirectory * file;\n",
    "df = readtable(readData);"
   ]
  },
  {
   "cell_type": "code",
   "execution_count": 4,
   "metadata": {
    "collapsed": false
   },
   "outputs": [],
   "source": [
    "# Split into years 2009 - 2014\n",
    "\n",
    "yearlist = 2009:2014\n",
    "dfList = [];\n",
    "for i in yearlist\n",
    "    k = copy(df);\n",
    "    k = k[k[:YEAR].== i,:];\n",
    "    push!(dfList,k);\n",
    "end\n",
    "\n",
    "folder_string = \"Split_Data/\"\n",
    "extension = \".csv\"\n",
    "for i in yearlist\n",
    "    writetable(folder_string*string(i)*extension,dfList[i-2008])\n",
    "end\n"
   ]
  },
  {
   "cell_type": "code",
   "execution_count": 5,
   "metadata": {
    "collapsed": false
   },
   "outputs": [
    {
     "data": {
      "text/plain": [
       "(258253,12)"
      ]
     },
     "execution_count": 5,
     "metadata": {},
     "output_type": "execute_result"
    }
   ],
   "source": [
    "# training[1] = 2009, test 2010\n",
    "# training[2] = 2009,2010, test 2011\n",
    "# training[3] = 2009,2010,2011 test 2012\n",
    "# training[4] = 2009,2010,2011,2012 test 2013\n",
    "# training[5] = 2009,2010,2011,2012,2013 test 2014\n",
    "writetable(folder_string*\"training[1]\"*extension,dfList[1]);\n",
    "size(df)"
   ]
  },
  {
   "cell_type": "code",
   "execution_count": 6,
   "metadata": {
    "collapsed": false
   },
   "outputs": [
    {
     "data": {
      "text/plain": [
       "6-element Array{Any,1}:\n",
       " (11207,12) \n",
       " (20240,12) \n",
       " (103906,12)\n",
       " (83215,12) \n",
       " (24190,12) \n",
       " (15495,12) "
      ]
     },
     "execution_count": 6,
     "metadata": {},
     "output_type": "execute_result"
    }
   ],
   "source": [
    "sizes1 = [];\n",
    "for sets in dfList\n",
    "    push!(sizes1,size(sets));\n",
    "end\n",
    "sizes1"
   ]
  },
  {
   "cell_type": "code",
   "execution_count": 25,
   "metadata": {
    "collapsed": false
   },
   "outputs": [],
   "source": [
    "training5 = copy(df);\n",
    "training5 = training5[training5[:YEAR].!=2014,:];\n",
    "training4 = copy(training5);\n",
    "training4 = training4[training4[:YEAR].!=2013,:];\n",
    "training3 = copy(training4);\n",
    "training3 = training3[training3[:YEAR].!=2012,:];\n",
    "training2 = copy(training3);\n",
    "training2 = training2[training2[:YEAR].!=2011,:];\n",
    "training1 = copy(dfList[1]);\n",
    "training = [training1,training2,training3,training4,training5];\n",
    "for i in 1:length(training)\n",
    "    writetable(folder_string*\"training\"* \"[\" * string(i)  *\"]\"*extension,training[i]);\n",
    "end\n",
    "\n"
   ]
  },
  {
   "cell_type": "code",
   "execution_count": 26,
   "metadata": {
    "collapsed": false
   },
   "outputs": [
    {
     "data": {
      "text/plain": [
       "0-element Array{Any,1}"
      ]
     },
     "execution_count": 26,
     "metadata": {},
     "output_type": "execute_result"
    }
   ],
   "source": [
    "sizes = [];\n",
    "for sets in training\n",
    "    push!(sizes,size(sets));\n",
    "end\n",
    "sizes"
   ]
  },
  {
   "cell_type": "code",
   "execution_count": 9,
   "metadata": {
    "collapsed": false
   },
   "outputs": [
    {
     "data": {
      "text/plain": [
       "(20240,12)"
      ]
     },
     "execution_count": 9,
     "metadata": {},
     "output_type": "execute_result"
    }
   ],
   "source": [
    "haha =similar(dfList[1],0);\n",
    "append!(haha,copy(dfList[2]));\n",
    "size(haha)"
   ]
  },
  {
   "cell_type": "code",
   "execution_count": 10,
   "metadata": {
    "collapsed": false
   },
   "outputs": [
    {
     "data": {
      "text/plain": [
       "(11207,12)"
      ]
     },
     "execution_count": 10,
     "metadata": {},
     "output_type": "execute_result"
    }
   ],
   "source": [
    "size(dfList[1])"
   ]
  },
  {
   "cell_type": "code",
   "execution_count": 11,
   "metadata": {
    "collapsed": false
   },
   "outputs": [
    {
     "data": {
      "text/plain": [
       "2-element Array{Tuple{Int64,Int64},1}:\n",
       " (11207,12)\n",
       " (11208,12)"
      ]
     },
     "execution_count": 11,
     "metadata": {},
     "output_type": "execute_result"
    }
   ],
   "source": [
    "y = copy(dfList[1]);\n",
    "init = size(y);\n",
    "append!(y,dfList[2][1,:]);\n",
    "after = size(y);\n",
    "[init,after]"
   ]
  },
  {
   "cell_type": "code",
   "execution_count": 12,
   "metadata": {
    "collapsed": false
   },
   "outputs": [
    {
     "data": {
      "text/plain": [
       "(31448,12)"
      ]
     },
     "execution_count": 12,
     "metadata": {},
     "output_type": "execute_result"
    }
   ],
   "source": [
    "z = copy(dfList[2]);\n",
    "append!(y,z);\n",
    "size(y)"
   ]
  },
  {
   "cell_type": "code",
   "execution_count": 13,
   "metadata": {
    "collapsed": false
   },
   "outputs": [
    {
     "data": {
      "text/plain": [
       "5-element Array{Any,1}:\n",
       " (31448,12)\n",
       " (0,12)    \n",
       " (0,12)    \n",
       " (0,12)    \n",
       " (0,12)    "
      ]
     },
     "execution_count": 13,
     "metadata": {},
     "output_type": "execute_result"
    }
   ],
   "source": [
    "sizes = [];\n",
    "for sets in training\n",
    "    push!(sizes,size(sets));\n",
    "end\n",
    "sizes"
   ]
  },
  {
   "cell_type": "code",
   "execution_count": null,
   "metadata": {
    "collapsed": true
   },
   "outputs": [],
   "source": []
  }
 ],
 "metadata": {
  "kernelspec": {
   "display_name": "Julia 0.5.0-rc3",
   "language": "julia",
   "name": "julia-0.5"
  },
  "language_info": {
   "file_extension": ".jl",
   "mimetype": "application/julia",
   "name": "julia",
   "version": "0.5.0"
  }
 },
 "nbformat": 4,
 "nbformat_minor": 0
}
