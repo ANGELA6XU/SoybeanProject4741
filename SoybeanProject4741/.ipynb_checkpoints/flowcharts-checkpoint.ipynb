{
 "cells": [
  {
   "cell_type": "markdown",
   "metadata": {},
   "source": [
    "# Preliminary Flowchart Analysis of Classes"
   ]
  },
  {
   "cell_type": "markdown",
   "metadata": {},
   "source": [
    "### Initial Visualization of How Varieties are filtered out "
   ]
  },
  {
   "cell_type": "code",
   "execution_count": 1,
   "metadata": {
    "collapsed": false
   },
   "outputs": [],
   "source": [
    "using PyPlot, Compat, DataFrames"
   ]
  },
  {
   "cell_type": "code",
   "execution_count": 2,
   "metadata": {
    "collapsed": true
   },
   "outputs": [],
   "source": [
    "# Initially, there were \".\" values in [:CLASS_OF],[:GRAD], and [BAGSSOLD].\n",
    "# Converted them to -1 integers via Excel"
   ]
  },
  {
   "cell_type": "code",
   "execution_count": 3,
   "metadata": {
    "collapsed": false
   },
   "outputs": [
    {
     "data": {
      "text/plain": [
       "uniqueElements"
      ]
     },
     "execution_count": 3,
     "metadata": {},
     "output_type": "execute_result"
    }
   ],
   "source": [
    "\"\"\"\n",
    "Checks a column for all unique types, using a for loop and a Dictionary\n",
    "\"\"\"\n",
    "function uniqueElements(df,acc)\n",
    "    dimensions = size(df);\n",
    "    print(dimensions)\n",
    "    nRows = dimensions[1];\n",
    "    # @assert nCols == 1 #Ensure only 1 row\n",
    "    for element in df\n",
    "        acc[element] = get(acc,element,0)+1\n",
    "    end\n",
    "end"
   ]
  },
  {
   "cell_type": "code",
   "execution_count": 4,
   "metadata": {
    "collapsed": false
   },
   "outputs": [
    {
     "data": {
      "text/html": [
       "<table class=\"data-frame\"><tr><th></th><th>YEAR</th><th>EXPERIMENT</th><th>LOCATION</th><th>VARIETY</th><th>FAMILY</th><th>CHECK</th><th>RM</th><th>REPNO</th><th>YIELD</th><th>CLASS_OF</th><th>GRAD</th><th>BAGSOLD</th></tr><tr><th>1</th><td>2009</td><td>09YT000052</td><td>3210</td><td>V000016</td><td>FAM05619</td><td>true</td><td>3.9</td><td>1</td><td>50.3023273</td><td>-1</td><td>-1</td><td>-1</td></tr><tr><th>2</th><td>2009</td><td>09YT000052</td><td>3210</td><td>V000016</td><td>FAM05619</td><td>true</td><td>3.9</td><td>2</td><td>48.3313053</td><td>-1</td><td>-1</td><td>-1</td></tr><tr><th>3</th><td>2009</td><td>09YT000052</td><td>3210</td><td>V000018</td><td>FAM05619</td><td>true</td><td>3.7</td><td>1</td><td>53.1032456</td><td>-1</td><td>-1</td><td>-1</td></tr><tr><th>4</th><td>2009</td><td>09YT000052</td><td>3210</td><td>V000018</td><td>FAM05619</td><td>true</td><td>3.7</td><td>2</td><td>53.1032456</td><td>-1</td><td>-1</td><td>-1</td></tr><tr><th>5</th><td>2009</td><td>09YT000052</td><td>3210</td><td>V000039</td><td>FAM05625</td><td>true</td><td>3.4</td><td>1</td><td>58.0811359</td><td>-1</td><td>-1</td><td>-1</td></tr><tr><th>6</th><td>2009</td><td>09YT000052</td><td>3210</td><td>V000039</td><td>FAM05625</td><td>true</td><td>3.4</td><td>2</td><td>58.2893163</td><td>-1</td><td>-1</td><td>-1</td></tr><tr><th>7</th><td>2009</td><td>09YT000052</td><td>3210</td><td>V000082</td><td>FAM13251</td><td>true</td><td>3.1</td><td>1</td><td>60.052158</td><td>-1</td><td>-1</td><td>-1</td></tr><tr><th>8</th><td>2009</td><td>09YT000052</td><td>3210</td><td>V000082</td><td>FAM13251</td><td>true</td><td>3.1</td><td>2</td><td>59.4302934</td><td>-1</td><td>-1</td><td>-1</td></tr><tr><th>9</th><td>2009</td><td>09YT000052</td><td>3210</td><td>V030090</td><td>FAM13986</td><td>false</td><td>3.2</td><td>1</td><td>54.4524032</td><td>-1</td><td>-1</td><td>-1</td></tr><tr><th>10</th><td>2009</td><td>09YT000052</td><td>3210</td><td>V030090</td><td>FAM13986</td><td>false</td><td>3.2</td><td>2</td><td>53.9332905</td><td>-1</td><td>-1</td><td>-1</td></tr><tr><th>11</th><td>2009</td><td>09YT000052</td><td>3210</td><td>V030093</td><td>FAM13986</td><td>false</td><td>3.5</td><td>1</td><td>52.4813811</td><td>-1</td><td>-1</td><td>-1</td></tr><tr><th>12</th><td>2009</td><td>09YT000052</td><td>3210</td><td>V030093</td><td>FAM13986</td><td>false</td><td>3.5</td><td>2</td><td>50.8212913</td><td>-1</td><td>-1</td><td>-1</td></tr><tr><th>13</th><td>2009</td><td>09YT000052</td><td>3210</td><td>V030101</td><td>FAM13986</td><td>false</td><td>3.5</td><td>1</td><td>52.2733494</td><td>-1</td><td>-1</td><td>-1</td></tr><tr><th>14</th><td>2009</td><td>09YT000052</td><td>3210</td><td>V030101</td><td>FAM13986</td><td>false</td><td>3.5</td><td>2</td><td>47.1901794</td><td>-1</td><td>-1</td><td>-1</td></tr><tr><th>15</th><td>2009</td><td>09YT000052</td><td>3210</td><td>V030102</td><td>FAM13986</td><td>false</td><td>3.4</td><td>1</td><td>47.5034909</td><td>-1</td><td>-1</td><td>-1</td></tr><tr><th>16</th><td>2009</td><td>09YT000052</td><td>3210</td><td>V030102</td><td>FAM13986</td><td>false</td><td>3.4</td><td>2</td><td>54.4524032</td><td>-1</td><td>-1</td><td>-1</td></tr><tr><th>17</th><td>2009</td><td>09YT000052</td><td>3210</td><td>V030105</td><td>FAM13986</td><td>false</td><td>3.3</td><td>1</td><td>53.6223583</td><td>-1</td><td>-1</td><td>-1</td></tr><tr><th>18</th><td>2009</td><td>09YT000052</td><td>3210</td><td>V030105</td><td>FAM13986</td><td>false</td><td>3.3</td><td>2</td><td>50.3023273</td><td>-1</td><td>-1</td><td>-1</td></tr><tr><th>19</th><td>2009</td><td>09YT000052</td><td>3210</td><td>V030107</td><td>FAM13991</td><td>false</td><td>3.5</td><td>1</td><td>53.9332905</td><td>-1</td><td>-1</td><td>-1</td></tr><tr><th>20</th><td>2009</td><td>09YT000052</td><td>3210</td><td>V030107</td><td>FAM13991</td><td>false</td><td>3.5</td><td>2</td><td>52.2733494</td><td>-1</td><td>-1</td><td>-1</td></tr><tr><th>21</th><td>2009</td><td>09YT000052</td><td>3210</td><td>V030110</td><td>FAM13991</td><td>false</td><td>3.4</td><td>1</td><td>54.9691366</td><td>-1</td><td>-1</td><td>-1</td></tr><tr><th>22</th><td>2009</td><td>09YT000052</td><td>3210</td><td>V030110</td><td>FAM13991</td><td>false</td><td>3.4</td><td>2</td><td>53.1032456</td><td>-1</td><td>-1</td><td>-1</td></tr><tr><th>23</th><td>2009</td><td>09YT000052</td><td>3210</td><td>V030116</td><td>FAM13991</td><td>false</td><td>3.7</td><td>1</td><td>52.4813811</td><td>-1</td><td>-1</td><td>-1</td></tr><tr><th>24</th><td>2009</td><td>09YT000052</td><td>3210</td><td>V030116</td><td>FAM13991</td><td>false</td><td>3.7</td><td>2</td><td>57.7702036</td><td>-1</td><td>-1</td><td>-1</td></tr><tr><th>25</th><td>2009</td><td>09YT000052</td><td>3210</td><td>V030134</td><td>FAM13991</td><td>false</td><td>3.3</td><td>1</td><td>59.7412257</td><td>-1</td><td>-1</td><td>-1</td></tr><tr><th>26</th><td>2009</td><td>09YT000052</td><td>3210</td><td>V030134</td><td>FAM13991</td><td>false</td><td>3.3</td><td>2</td><td>59.4302934</td><td>-1</td><td>-1</td><td>-1</td></tr><tr><th>27</th><td>2009</td><td>09YT000052</td><td>3210</td><td>V030137</td><td>FAM13991</td><td>false</td><td>3.5</td><td>1</td><td>56.1101138</td><td>-1</td><td>-1</td><td>-1</td></tr><tr><th>28</th><td>2009</td><td>09YT000052</td><td>3210</td><td>V030137</td><td>FAM13991</td><td>false</td><td>3.5</td><td>2</td><td>56.1101138</td><td>-1</td><td>-1</td><td>-1</td></tr><tr><th>29</th><td>2009</td><td>09YT000052</td><td>3210</td><td>V030139</td><td>FAM13991</td><td>false</td><td>3.5</td><td>1</td><td>52.4813811</td><td>-1</td><td>-1</td><td>-1</td></tr><tr><th>30</th><td>2009</td><td>09YT000052</td><td>3210</td><td>V030139</td><td>FAM13991</td><td>false</td><td>3.5</td><td>2</td><td>48.0202243</td><td>-1</td><td>-1</td><td>-1</td></tr><tr><th>&vellip;</th><td>&vellip;</td><td>&vellip;</td><td>&vellip;</td><td>&vellip;</td><td>&vellip;</td><td>&vellip;</td><td>&vellip;</td><td>&vellip;</td><td>&vellip;</td><td>&vellip;</td><td>&vellip;</td><td>&vellip;</td></tr></table>"
      ],
      "text/plain": [
       "258253×12 DataFrames.DataFrame\n",
       "│ Row    │ YEAR │ EXPERIMENT   │ LOCATION │ VARIETY   │ FAMILY     │ CHECK │\n",
       "├────────┼──────┼──────────────┼──────────┼───────────┼────────────┼───────┤\n",
       "│ 1      │ 2009 │ \"09YT000052\" │ \"3210\"   │ \"V000016\" │ \"FAM05619\" │ true  │\n",
       "│ 2      │ 2009 │ \"09YT000052\" │ \"3210\"   │ \"V000016\" │ \"FAM05619\" │ true  │\n",
       "│ 3      │ 2009 │ \"09YT000052\" │ \"3210\"   │ \"V000018\" │ \"FAM05619\" │ true  │\n",
       "│ 4      │ 2009 │ \"09YT000052\" │ \"3210\"   │ \"V000018\" │ \"FAM05619\" │ true  │\n",
       "│ 5      │ 2009 │ \"09YT000052\" │ \"3210\"   │ \"V000039\" │ \"FAM05625\" │ true  │\n",
       "│ 6      │ 2009 │ \"09YT000052\" │ \"3210\"   │ \"V000039\" │ \"FAM05625\" │ true  │\n",
       "│ 7      │ 2009 │ \"09YT000052\" │ \"3210\"   │ \"V000082\" │ \"FAM13251\" │ true  │\n",
       "│ 8      │ 2009 │ \"09YT000052\" │ \"3210\"   │ \"V000082\" │ \"FAM13251\" │ true  │\n",
       "│ 9      │ 2009 │ \"09YT000052\" │ \"3210\"   │ \"V030090\" │ \"FAM13986\" │ false │\n",
       "│ 10     │ 2009 │ \"09YT000052\" │ \"3210\"   │ \"V030090\" │ \"FAM13986\" │ false │\n",
       "│ 11     │ 2009 │ \"09YT000052\" │ \"3210\"   │ \"V030093\" │ \"FAM13986\" │ false │\n",
       "⋮\n",
       "│ 258242 │ 2014 │ \"14YT005707\" │ \"3490\"   │ \"V152769\" │ \"FAM07213\" │ false │\n",
       "│ 258243 │ 2014 │ \"14YT005707\" │ \"3490\"   │ \"V152769\" │ \"FAM07213\" │ false │\n",
       "│ 258244 │ 2014 │ \"14YT005707\" │ \"3490\"   │ \"V155227\" │ \"FAM00603\" │ true  │\n",
       "│ 258245 │ 2014 │ \"14YT005707\" │ \"3490\"   │ \"V155227\" │ \"FAM00603\" │ true  │\n",
       "│ 258246 │ 2014 │ \"14YT005707\" │ \"3490\"   │ \"V155843\" │ \"FAM13991\" │ true  │\n",
       "│ 258247 │ 2014 │ \"14YT005707\" │ \"3490\"   │ \"V155843\" │ \"FAM13991\" │ true  │\n",
       "│ 258248 │ 2014 │ \"14YT005707\" │ \"3490\"   │ \"V155853\" │ \"FAM13521\" │ true  │\n",
       "│ 258249 │ 2014 │ \"14YT005707\" │ \"3490\"   │ \"V155853\" │ \"FAM13521\" │ true  │\n",
       "│ 258250 │ 2014 │ \"14YT005707\" │ \"3490\"   │ \"V156314\" │ \"FAM12531\" │ true  │\n",
       "│ 258251 │ 2014 │ \"14YT005707\" │ \"3490\"   │ \"V156314\" │ \"FAM12531\" │ true  │\n",
       "│ 258252 │ 2014 │ \"14YT005707\" │ \"3490\"   │ \"V156553\" │ \"FAM14238\" │ true  │\n",
       "│ 258253 │ 2014 │ \"14YT005707\" │ \"3490\"   │ \"V156553\" │ \"FAM14238\" │ true  │\n",
       "\n",
       "│ Row    │ RM  │ REPNO │ YIELD   │ CLASS_OF │ GRAD │ BAGSOLD │\n",
       "├────────┼─────┼───────┼─────────┼──────────┼──────┼─────────┤\n",
       "│ 1      │ 3.9 │ 1     │ 50.3023 │ -1       │ -1   │ -1      │\n",
       "│ 2      │ 3.9 │ 2     │ 48.3313 │ -1       │ -1   │ -1      │\n",
       "│ 3      │ 3.7 │ 1     │ 53.1032 │ -1       │ -1   │ -1      │\n",
       "│ 4      │ 3.7 │ 2     │ 53.1032 │ -1       │ -1   │ -1      │\n",
       "│ 5      │ 3.4 │ 1     │ 58.0811 │ -1       │ -1   │ -1      │\n",
       "│ 6      │ 3.4 │ 2     │ 58.2893 │ -1       │ -1   │ -1      │\n",
       "│ 7      │ 3.1 │ 1     │ 60.0522 │ -1       │ -1   │ -1      │\n",
       "│ 8      │ 3.1 │ 2     │ 59.4303 │ -1       │ -1   │ -1      │\n",
       "│ 9      │ 3.2 │ 1     │ 54.4524 │ -1       │ -1   │ -1      │\n",
       "│ 10     │ 3.2 │ 2     │ 53.9333 │ -1       │ -1   │ -1      │\n",
       "│ 11     │ 3.5 │ 1     │ 52.4814 │ -1       │ -1   │ -1      │\n",
       "⋮\n",
       "│ 258242 │ 2.8 │ 1     │ 59.9085 │ -1       │ -1   │ -1      │\n",
       "│ 258243 │ 2.8 │ 2     │ 53.4084 │ -1       │ -1   │ -1      │\n",
       "│ 258244 │ 2.7 │ 1     │ 63.0916 │ -1       │ -1   │ -1      │\n",
       "│ 258245 │ 2.7 │ 2     │ 52.3362 │ -1       │ -1   │ -1      │\n",
       "│ 258246 │ 3.0 │ 1     │ 73.7622 │ 2011     │ 1    │ 871341  │\n",
       "│ 258247 │ 3.0 │ 2     │ 58.5208 │ 2011     │ 1    │ 871341  │\n",
       "│ 258248 │ 2.7 │ 1     │ 57.3599 │ 2011     │ 1    │ 761392  │\n",
       "│ 258249 │ 2.7 │ 2     │ 57.2151 │ 2011     │ 1    │ 761392  │\n",
       "│ 258250 │ 2.8 │ 1     │ 69.472  │ 2012     │ 1    │ 755156  │\n",
       "│ 258251 │ 2.8 │ 2     │ 64.0897 │ 2012     │ 1    │ 755156  │\n",
       "│ 258252 │ 2.9 │ 1     │ 72.7678 │ 2013     │ 1    │ 595119  │\n",
       "│ 258253 │ 2.9 │ 2     │ 60.1867 │ 2013     │ 1    │ 595119  │"
      ]
     },
     "execution_count": 4,
     "metadata": {},
     "output_type": "execute_result"
    }
   ],
   "source": [
    "dataDirectory = \"Student_Team_Competition_Syngenta_Data/\";\n",
    "file = \"EXPERIMENT DATA CSV (Cleaned).csv\";\n",
    "readData = dataDirectory * file;\n",
    "df = readtable(readData)"
   ]
  },
  {
   "cell_type": "code",
   "execution_count": 17,
   "metadata": {
    "collapsed": false
   },
   "outputs": [
    {
     "name": "stderr",
     "output_type": "stream",
     "text": [
      "WARNING: Method definition uniqueDataframe(Any) in module Main at In[14]:6 overwritten at In[17]:6.\n",
      "WARNING: replacing docs for 'uniqueDataframe :: Tuple{Any}' in module 'Main'.\n"
     ]
    },
    {
     "data": {
      "text/plain": [
       "uniqueDataframe"
      ]
     },
     "execution_count": 17,
     "metadata": {},
     "output_type": "execute_result"
    }
   ],
   "source": [
    "\"\"\"\n",
    "Function to check number of unique entries for\n",
    "whole dataframe\n",
    "\"\"\"\n",
    "function uniqueDataframe(df)\n",
    "    (m,n) = size(df)\n",
    "    acc = [];\n",
    "    for i in 1:n\n",
    "        dictacc = Dict{typeof(df[i][1]),Int64}()\n",
    "        push!(acc,dictacc)\n",
    "        uniqueElements(df[i],acc[i])\n",
    "    end\n",
    "    return acc\n",
    "end"
   ]
  },
  {
   "cell_type": "code",
   "execution_count": 20,
   "metadata": {
    "collapsed": false
   },
   "outputs": [
    {
     "name": "stdout",
     "output_type": "stream",
     "text": [
      "(258253,)(258253,)(258253,)(258253,)(258253,)(258253,)(258253,)(258253,)(258253,)(258253,)(258253,)(258253,)"
     ]
    },
    {
     "data": {
      "text/plain": [
       "Dict{String,Int64} with 15632 entries:\n",
       "  \"V025820\" => 8\n",
       "  \"V060505\" => 13\n",
       "  \"V035816\" => 9\n",
       "  \"V045486\" => 12\n",
       "  \"V014202\" => 2\n",
       "  \"V083330\" => 7\n",
       "  \"V069085\" => 12\n",
       "  \"V068867\" => 12\n",
       "  \"V084850\" => 8\n",
       "  \"V048034\" => 11\n",
       "  \"V075684\" => 10\n",
       "  \"V026372\" => 7\n",
       "  \"V035878\" => 9\n",
       "  \"V081496\" => 12\n",
       "  \"V041709\" => 12\n",
       "  \"V026338\" => 6\n",
       "  \"V054753\" => 10\n",
       "  \"V034766\" => 3\n",
       "  \"V059274\" => 12\n",
       "  \"V062056\" => 12\n",
       "  \"V045473\" => 12\n",
       "  \"V054813\" => 10\n",
       "  \"V083984\" => 11\n",
       "  \"V025392\" => 7\n",
       "  \"V042033\" => 10\n",
       "  ⋮         => ⋮"
      ]
     },
     "execution_count": 20,
     "metadata": {},
     "output_type": "execute_result"
    }
   ],
   "source": [
    "description = uniqueDataframe(df)\n",
    "description[4];\n",
    "description[5]"
   ]
  },
  {
   "cell_type": "code",
   "execution_count": 12,
   "metadata": {
    "collapsed": false
   },
   "outputs": [
    {
     "name": "stdout",
     "output_type": "stream",
     "text": [
      "(258253,)"
     ]
    },
    {
     "data": {
      "text/plain": [
       "Dict{Int64,Int64} with 5 entries:\n",
       "  2011 => 10196\n",
       "  -1   => 231769\n",
       "  2013 => 5975\n",
       "  2014 => 4590\n",
       "  2012 => 5723"
      ]
     },
     "execution_count": 12,
     "metadata": {},
     "output_type": "execute_result"
    }
   ],
   "source": [
    "uniqueClasses = Dict{Int64,Int64}()\n",
    "uniqueElements(df[:CLASS_OF],uniqueClasses)\n",
    "uniqueClasses"
   ]
  },
  {
   "cell_type": "code",
   "execution_count": 7,
   "metadata": {
    "collapsed": false
   },
   "outputs": [
    {
     "data": {
      "text/plain": [
       "0-element Array{Any,1}"
      ]
     },
     "execution_count": 7,
     "metadata": {},
     "output_type": "execute_result"
    }
   ],
   "source": []
  },
  {
   "cell_type": "code",
   "execution_count": null,
   "metadata": {
    "collapsed": true
   },
   "outputs": [],
   "source": []
  }
 ],
 "metadata": {
  "kernelspec": {
   "display_name": "Julia 0.5.0-rc3",
   "language": "julia",
   "name": "julia-0.5"
  },
  "language_info": {
   "file_extension": ".jl",
   "mimetype": "application/julia",
   "name": "julia",
   "version": "0.5.0"
  }
 },
 "nbformat": 4,
 "nbformat_minor": 0
}
