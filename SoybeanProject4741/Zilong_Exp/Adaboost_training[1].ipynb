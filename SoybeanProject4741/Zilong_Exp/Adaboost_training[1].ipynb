{
 "cells": [
  {
   "cell_type": "markdown",
   "metadata": {},
   "source": [
    "### Testing out AdaBoost in ScikitLearn on training[1].csv"
   ]
  },
  {
   "cell_type": "code",
   "execution_count": 1,
   "metadata": {
    "collapsed": false
   },
   "outputs": [
    {
     "name": "stderr",
     "output_type": "stream",
     "text": [
      "WARNING: Method definition require(Symbol) in module Base at loading.jl:376 overwritten in module Main at /home/zilong/.julia/v0.6/Requires/src/require.jl:12.\n"
     ]
    }
   ],
   "source": [
    "using ScikitLearn, PyPlot, DataFrames"
   ]
  },
  {
   "cell_type": "code",
   "execution_count": 2,
   "metadata": {
    "collapsed": false
   },
   "outputs": [
    {
     "data": {
      "text/html": [
       "<table class=\"data-frame\"><tr><th></th><th>YEAR</th><th>EXPERIMENT</th><th>LOCATION</th><th>VARIETY</th><th>FAMILY</th><th>CHECK</th><th>RM</th><th>REPNO</th><th>YIELD</th><th>CLASS_OF</th><th>GRAD</th><th>BAGSOLD</th></tr><tr><th>1</th><td>2009</td><td>09YT000052</td><td>3210</td><td>V000016</td><td>FAM05619</td><td>true</td><td>3.9</td><td>1</td><td>50.3023273</td><td>-1</td><td>-1</td><td>-1</td></tr><tr><th>2</th><td>2009</td><td>09YT000052</td><td>3210</td><td>V000016</td><td>FAM05619</td><td>true</td><td>3.9</td><td>2</td><td>48.3313053</td><td>-1</td><td>-1</td><td>-1</td></tr><tr><th>3</th><td>2009</td><td>09YT000052</td><td>3210</td><td>V000018</td><td>FAM05619</td><td>true</td><td>3.7</td><td>1</td><td>53.1032456</td><td>-1</td><td>-1</td><td>-1</td></tr><tr><th>4</th><td>2009</td><td>09YT000052</td><td>3210</td><td>V000018</td><td>FAM05619</td><td>true</td><td>3.7</td><td>2</td><td>53.1032456</td><td>-1</td><td>-1</td><td>-1</td></tr><tr><th>5</th><td>2009</td><td>09YT000052</td><td>3210</td><td>V000039</td><td>FAM05625</td><td>true</td><td>3.4</td><td>1</td><td>58.0811359</td><td>-1</td><td>-1</td><td>-1</td></tr><tr><th>6</th><td>2009</td><td>09YT000052</td><td>3210</td><td>V000039</td><td>FAM05625</td><td>true</td><td>3.4</td><td>2</td><td>58.2893163</td><td>-1</td><td>-1</td><td>-1</td></tr><tr><th>7</th><td>2009</td><td>09YT000052</td><td>3210</td><td>V000082</td><td>FAM13251</td><td>true</td><td>3.1</td><td>1</td><td>60.052158</td><td>-1</td><td>-1</td><td>-1</td></tr><tr><th>8</th><td>2009</td><td>09YT000052</td><td>3210</td><td>V000082</td><td>FAM13251</td><td>true</td><td>3.1</td><td>2</td><td>59.4302934</td><td>-1</td><td>-1</td><td>-1</td></tr><tr><th>9</th><td>2009</td><td>09YT000052</td><td>3210</td><td>V030090</td><td>FAM13986</td><td>false</td><td>3.2</td><td>1</td><td>54.4524032</td><td>-1</td><td>-1</td><td>-1</td></tr><tr><th>10</th><td>2009</td><td>09YT000052</td><td>3210</td><td>V030090</td><td>FAM13986</td><td>false</td><td>3.2</td><td>2</td><td>53.9332905</td><td>-1</td><td>-1</td><td>-1</td></tr><tr><th>11</th><td>2009</td><td>09YT000052</td><td>3210</td><td>V030093</td><td>FAM13986</td><td>false</td><td>3.5</td><td>1</td><td>52.4813811</td><td>-1</td><td>-1</td><td>-1</td></tr><tr><th>12</th><td>2009</td><td>09YT000052</td><td>3210</td><td>V030093</td><td>FAM13986</td><td>false</td><td>3.5</td><td>2</td><td>50.8212913</td><td>-1</td><td>-1</td><td>-1</td></tr><tr><th>13</th><td>2009</td><td>09YT000052</td><td>3210</td><td>V030101</td><td>FAM13986</td><td>false</td><td>3.5</td><td>1</td><td>52.2733494</td><td>-1</td><td>-1</td><td>-1</td></tr><tr><th>14</th><td>2009</td><td>09YT000052</td><td>3210</td><td>V030101</td><td>FAM13986</td><td>false</td><td>3.5</td><td>2</td><td>47.1901794</td><td>-1</td><td>-1</td><td>-1</td></tr><tr><th>15</th><td>2009</td><td>09YT000052</td><td>3210</td><td>V030102</td><td>FAM13986</td><td>false</td><td>3.4</td><td>1</td><td>47.5034909</td><td>-1</td><td>-1</td><td>-1</td></tr><tr><th>16</th><td>2009</td><td>09YT000052</td><td>3210</td><td>V030102</td><td>FAM13986</td><td>false</td><td>3.4</td><td>2</td><td>54.4524032</td><td>-1</td><td>-1</td><td>-1</td></tr><tr><th>17</th><td>2009</td><td>09YT000052</td><td>3210</td><td>V030105</td><td>FAM13986</td><td>false</td><td>3.3</td><td>1</td><td>53.6223583</td><td>-1</td><td>-1</td><td>-1</td></tr><tr><th>18</th><td>2009</td><td>09YT000052</td><td>3210</td><td>V030105</td><td>FAM13986</td><td>false</td><td>3.3</td><td>2</td><td>50.3023273</td><td>-1</td><td>-1</td><td>-1</td></tr><tr><th>19</th><td>2009</td><td>09YT000052</td><td>3210</td><td>V030107</td><td>FAM13991</td><td>false</td><td>3.5</td><td>1</td><td>53.9332905</td><td>-1</td><td>-1</td><td>-1</td></tr><tr><th>20</th><td>2009</td><td>09YT000052</td><td>3210</td><td>V030107</td><td>FAM13991</td><td>false</td><td>3.5</td><td>2</td><td>52.2733494</td><td>-1</td><td>-1</td><td>-1</td></tr><tr><th>21</th><td>2009</td><td>09YT000052</td><td>3210</td><td>V030110</td><td>FAM13991</td><td>false</td><td>3.4</td><td>1</td><td>54.9691366</td><td>-1</td><td>-1</td><td>-1</td></tr><tr><th>22</th><td>2009</td><td>09YT000052</td><td>3210</td><td>V030110</td><td>FAM13991</td><td>false</td><td>3.4</td><td>2</td><td>53.1032456</td><td>-1</td><td>-1</td><td>-1</td></tr><tr><th>23</th><td>2009</td><td>09YT000052</td><td>3210</td><td>V030116</td><td>FAM13991</td><td>false</td><td>3.7</td><td>1</td><td>52.4813811</td><td>-1</td><td>-1</td><td>-1</td></tr><tr><th>24</th><td>2009</td><td>09YT000052</td><td>3210</td><td>V030116</td><td>FAM13991</td><td>false</td><td>3.7</td><td>2</td><td>57.7702036</td><td>-1</td><td>-1</td><td>-1</td></tr><tr><th>25</th><td>2009</td><td>09YT000052</td><td>3210</td><td>V030134</td><td>FAM13991</td><td>false</td><td>3.3</td><td>1</td><td>59.7412257</td><td>-1</td><td>-1</td><td>-1</td></tr><tr><th>26</th><td>2009</td><td>09YT000052</td><td>3210</td><td>V030134</td><td>FAM13991</td><td>false</td><td>3.3</td><td>2</td><td>59.4302934</td><td>-1</td><td>-1</td><td>-1</td></tr><tr><th>27</th><td>2009</td><td>09YT000052</td><td>3210</td><td>V030137</td><td>FAM13991</td><td>false</td><td>3.5</td><td>1</td><td>56.1101138</td><td>-1</td><td>-1</td><td>-1</td></tr><tr><th>28</th><td>2009</td><td>09YT000052</td><td>3210</td><td>V030137</td><td>FAM13991</td><td>false</td><td>3.5</td><td>2</td><td>56.1101138</td><td>-1</td><td>-1</td><td>-1</td></tr><tr><th>29</th><td>2009</td><td>09YT000052</td><td>3210</td><td>V030139</td><td>FAM13991</td><td>false</td><td>3.5</td><td>1</td><td>52.4813811</td><td>-1</td><td>-1</td><td>-1</td></tr><tr><th>30</th><td>2009</td><td>09YT000052</td><td>3210</td><td>V030139</td><td>FAM13991</td><td>false</td><td>3.5</td><td>2</td><td>48.0202243</td><td>-1</td><td>-1</td><td>-1</td></tr><tr><th>&vellip;</th><td>&vellip;</td><td>&vellip;</td><td>&vellip;</td><td>&vellip;</td><td>&vellip;</td><td>&vellip;</td><td>&vellip;</td><td>&vellip;</td><td>&vellip;</td><td>&vellip;</td><td>&vellip;</td><td>&vellip;</td></tr></table>"
      ],
      "text/plain": [
       "11207×12 DataFrames.DataFrame\n",
       "│ Row   │ YEAR │ EXPERIMENT   │ LOCATION │ VARIETY   │ FAMILY     │ CHECK │\n",
       "├───────┼──────┼──────────────┼──────────┼───────────┼────────────┼───────┤\n",
       "│ 1     │ 2009 │ \"09YT000052\" │ 3210     │ \"V000016\" │ \"FAM05619\" │ true  │\n",
       "│ 2     │ 2009 │ \"09YT000052\" │ 3210     │ \"V000016\" │ \"FAM05619\" │ true  │\n",
       "│ 3     │ 2009 │ \"09YT000052\" │ 3210     │ \"V000018\" │ \"FAM05619\" │ true  │\n",
       "│ 4     │ 2009 │ \"09YT000052\" │ 3210     │ \"V000018\" │ \"FAM05619\" │ true  │\n",
       "│ 5     │ 2009 │ \"09YT000052\" │ 3210     │ \"V000039\" │ \"FAM05625\" │ true  │\n",
       "│ 6     │ 2009 │ \"09YT000052\" │ 3210     │ \"V000039\" │ \"FAM05625\" │ true  │\n",
       "│ 7     │ 2009 │ \"09YT000052\" │ 3210     │ \"V000082\" │ \"FAM13251\" │ true  │\n",
       "│ 8     │ 2009 │ \"09YT000052\" │ 3210     │ \"V000082\" │ \"FAM13251\" │ true  │\n",
       "│ 9     │ 2009 │ \"09YT000052\" │ 3210     │ \"V030090\" │ \"FAM13986\" │ false │\n",
       "│ 10    │ 2009 │ \"09YT000052\" │ 3210     │ \"V030090\" │ \"FAM13986\" │ false │\n",
       "│ 11    │ 2009 │ \"09YT000052\" │ 3210     │ \"V030093\" │ \"FAM13986\" │ false │\n",
       "⋮\n",
       "│ 11196 │ 2009 │ \"09YT000870\" │ 3491     │ \"V120218\" │ \"FAM12485\" │ false │\n",
       "│ 11197 │ 2009 │ \"09YT000870\" │ 3491     │ \"V120218\" │ \"FAM12485\" │ false │\n",
       "│ 11198 │ 2009 │ \"09YT000870\" │ 3491     │ \"V120255\" │ \"FAM12485\" │ false │\n",
       "│ 11199 │ 2009 │ \"09YT000870\" │ 3491     │ \"V120255\" │ \"FAM12485\" │ false │\n",
       "│ 11200 │ 2009 │ \"09YT000870\" │ 3491     │ \"V120256\" │ \"FAM12485\" │ false │\n",
       "│ 11201 │ 2009 │ \"09YT000870\" │ 3491     │ \"V120256\" │ \"FAM12485\" │ false │\n",
       "│ 11202 │ 2009 │ \"09YT000870\" │ 3491     │ \"V120257\" │ \"FAM12485\" │ false │\n",
       "│ 11203 │ 2009 │ \"09YT000870\" │ 3491     │ \"V120257\" │ \"FAM12485\" │ false │\n",
       "│ 11204 │ 2009 │ \"09YT000870\" │ 3491     │ \"V120269\" │ \"FAM12485\" │ false │\n",
       "│ 11205 │ 2009 │ \"09YT000870\" │ 3491     │ \"V120269\" │ \"FAM12485\" │ false │\n",
       "│ 11206 │ 2009 │ \"09YT000870\" │ 3491     │ \"V120273\" │ \"FAM12485\" │ false │\n",
       "│ 11207 │ 2009 │ \"09YT000870\" │ 3491     │ \"V120273\" │ \"FAM12485\" │ false │\n",
       "\n",
       "│ Row   │ RM  │ REPNO │ YIELD   │ CLASS_OF │ GRAD │ BAGSOLD │\n",
       "├───────┼─────┼───────┼─────────┼──────────┼──────┼─────────┤\n",
       "│ 1     │ 3.9 │ 1     │ 50.3023 │ -1       │ -1   │ -1      │\n",
       "│ 2     │ 3.9 │ 2     │ 48.3313 │ -1       │ -1   │ -1      │\n",
       "│ 3     │ 3.7 │ 1     │ 53.1032 │ -1       │ -1   │ -1      │\n",
       "│ 4     │ 3.7 │ 2     │ 53.1032 │ -1       │ -1   │ -1      │\n",
       "│ 5     │ 3.4 │ 1     │ 58.0811 │ -1       │ -1   │ -1      │\n",
       "│ 6     │ 3.4 │ 2     │ 58.2893 │ -1       │ -1   │ -1      │\n",
       "│ 7     │ 3.1 │ 1     │ 60.0522 │ -1       │ -1   │ -1      │\n",
       "│ 8     │ 3.1 │ 2     │ 59.4303 │ -1       │ -1   │ -1      │\n",
       "│ 9     │ 3.2 │ 1     │ 54.4524 │ -1       │ -1   │ -1      │\n",
       "│ 10    │ 3.2 │ 2     │ 53.9333 │ -1       │ -1   │ -1      │\n",
       "│ 11    │ 3.5 │ 1     │ 52.4814 │ -1       │ -1   │ -1      │\n",
       "⋮\n",
       "│ 11196 │ 2.5 │ 1     │ 65.6097 │ -1       │ -1   │ -1      │\n",
       "│ 11197 │ 2.5 │ 2     │ 72.0643 │ -1       │ -1   │ -1      │\n",
       "│ 11198 │ 2.4 │ 1     │ 59.1576 │ -1       │ -1   │ -1      │\n",
       "│ 11199 │ 2.4 │ 2     │ 65.6097 │ -1       │ -1   │ -1      │\n",
       "│ 11200 │ 2.5 │ 1     │ 62.3824 │ -1       │ -1   │ -1      │\n",
       "│ 11201 │ 2.5 │ 2     │ 77.4422 │ -1       │ -1   │ -1      │\n",
       "│ 11202 │ 2.5 │ 1     │ 76.3656 │ -1       │ -1   │ -1      │\n",
       "│ 11203 │ 2.5 │ 2     │ 63.459  │ -1       │ -1   │ -1      │\n",
       "│ 11204 │ 2.5 │ 1     │ 68.8371 │ -1       │ -1   │ -1      │\n",
       "│ 11205 │ 2.5 │ 2     │ 64.5356 │ -1       │ -1   │ -1      │\n",
       "│ 11206 │ 2.5 │ 1     │ 62.3824 │ -1       │ -1   │ -1      │\n",
       "│ 11207 │ 2.5 │ 2     │ 66.6863 │ -1       │ -1   │ -1      │"
      ]
     },
     "execution_count": 2,
     "metadata": {},
     "output_type": "execute_result"
    }
   ],
   "source": [
    "# Import training[1].csv\n",
    "path = \"../Split_Data/\";\n",
    "filename = \"training[1].csv\";\n",
    "pathstring = path*filename;\n",
    "df = readtable(pathstring)"
   ]
  },
  {
   "cell_type": "code",
   "execution_count": 3,
   "metadata": {
    "collapsed": false
   },
   "outputs": [],
   "source": [
    "unique(df[:EXPERIMENT]);\n",
    "unique(df[:LOCATION]);\n",
    "typeof(df[:RM][1]);"
   ]
  },
  {
   "cell_type": "code",
   "execution_count": 6,
   "metadata": {
    "collapsed": false
   },
   "outputs": [
    {
     "data": {
      "text/plain": [
       "11207×1951 Array{Float64,2}:\n",
       " 1.0  0.0  0.0  0.0  0.0  0.0  0.0  …  0.0  0.0  1.0  0.0  0.0  -0.0515916\n",
       " 1.0  0.0  0.0  0.0  0.0  0.0  0.0     0.0  0.0  1.0  0.0  0.0  -0.0515916\n",
       " 1.0  0.0  0.0  0.0  0.0  0.0  0.0     0.0  0.0  1.0  0.0  0.0  -0.0515916\n",
       " 1.0  0.0  0.0  0.0  0.0  0.0  0.0     0.0  0.0  1.0  0.0  0.0  -0.0515916\n",
       " 1.0  0.0  0.0  0.0  0.0  0.0  0.0     0.0  0.0  1.0  0.0  0.0  -0.0515916\n",
       " 1.0  0.0  0.0  0.0  0.0  0.0  0.0  …  0.0  0.0  1.0  0.0  0.0  -0.0515916\n",
       " 1.0  0.0  0.0  0.0  0.0  0.0  0.0     0.0  0.0  1.0  0.0  0.0  -0.0515916\n",
       " 1.0  0.0  0.0  0.0  0.0  0.0  0.0     0.0  0.0  1.0  0.0  0.0  -0.0515916\n",
       " 1.0  0.0  0.0  0.0  0.0  0.0  0.0     0.0  0.0  1.0  0.0  0.0  -0.0515916\n",
       " 1.0  0.0  0.0  0.0  0.0  0.0  0.0     0.0  0.0  1.0  0.0  0.0  -0.0515916\n",
       " 1.0  0.0  0.0  0.0  0.0  0.0  0.0  …  0.0  0.0  1.0  0.0  0.0  -0.0515916\n",
       " 1.0  0.0  0.0  0.0  0.0  0.0  0.0     0.0  0.0  1.0  0.0  0.0  -0.0515916\n",
       " 1.0  0.0  0.0  0.0  0.0  0.0  0.0     0.0  0.0  1.0  0.0  0.0  -0.0515916\n",
       " ⋮                        ⋮         ⋱  ⋮                         ⋮        \n",
       " 0.0  0.0  0.0  0.0  0.0  0.0  0.0  …  0.0  0.0  1.0  0.0  0.0  -0.0515916\n",
       " 0.0  0.0  0.0  0.0  0.0  0.0  0.0     0.0  0.0  1.0  0.0  0.0  -0.0515916\n",
       " 0.0  0.0  0.0  0.0  0.0  0.0  0.0     0.0  0.0  1.0  0.0  0.0  -0.0515916\n",
       " 0.0  0.0  0.0  0.0  0.0  0.0  0.0     0.0  0.0  1.0  0.0  0.0  -0.0515916\n",
       " 0.0  0.0  0.0  0.0  0.0  0.0  0.0     0.0  0.0  1.0  0.0  0.0  -0.0515916\n",
       " 0.0  0.0  0.0  0.0  0.0  0.0  0.0  …  0.0  0.0  1.0  0.0  0.0  -0.0515916\n",
       " 0.0  0.0  0.0  0.0  0.0  0.0  0.0     0.0  0.0  1.0  0.0  0.0  -0.0515916\n",
       " 0.0  0.0  0.0  0.0  0.0  0.0  0.0     0.0  0.0  1.0  0.0  0.0  -0.0515916\n",
       " 0.0  0.0  0.0  0.0  0.0  0.0  0.0     0.0  0.0  1.0  0.0  0.0  -0.0515916\n",
       " 0.0  0.0  0.0  0.0  0.0  0.0  0.0     0.0  0.0  1.0  0.0  0.0  -0.0515916\n",
       " 0.0  0.0  0.0  0.0  0.0  0.0  0.0  …  0.0  0.0  1.0  0.0  0.0  -0.0515916\n",
       " 0.0  0.0  0.0  0.0  0.0  0.0  0.0     0.0  0.0  1.0  0.0  0.0  -0.0515916"
      ]
     },
     "execution_count": 6,
     "metadata": {},
     "output_type": "execute_result"
    }
   ],
   "source": [
    "# Convert dataframe into array and transform data using DataFrameMapper\n",
    "@sk_import preprocessing: (LabelBinarizer, StandardScaler)\n",
    "# Drop YEAR, FAMILY\n",
    "mapper = DataFrameMapper([\n",
    "    (:EXPERIMENT,LabelBinarizer()),\n",
    "    (:LOCATION,LabelBinarizer()),\n",
    "    (:VARIETY,LabelBinarizer()),\n",
    "    (:CHECK,LabelBinarizer()),\n",
    "    ([:RM],StandardScaler()),\n",
    "    (:REPNO,LabelBinarizer()),\n",
    "    ([:YIELD],StandardScaler()),\n",
    "    (:CLASS_OF,LabelBinarizer()),\n",
    "    (:GRAD,LabelBinarizer()),\n",
    "    ([:BAGSOLD],StandardScaler())\n",
    "    ]);\n",
    "dft = fit_transform!(mapper,copy(df))"
   ]
  },
  {
   "cell_type": "code",
   "execution_count": null,
   "metadata": {
    "collapsed": true
   },
   "outputs": [],
   "source": []
  }
 ],
 "metadata": {
  "kernelspec": {
   "display_name": "Julia 0.6.0-dev",
   "language": "julia",
   "name": "julia-0.6"
  },
  "language_info": {
   "file_extension": ".jl",
   "mimetype": "application/julia",
   "name": "julia",
   "version": "0.6.0"
  }
 },
 "nbformat": 4,
 "nbformat_minor": 0
}
