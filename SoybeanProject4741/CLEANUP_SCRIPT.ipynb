{
 "cells": [
  {
   "cell_type": "markdown",
   "metadata": {},
   "source": [
    "# Script to Cleanup Initial Dataframe"
   ]
  },
  {
   "cell_type": "markdown",
   "metadata": {},
   "source": [
    "### Initial Visualization of How Varieties are filtered out "
   ]
  },
  {
   "cell_type": "code",
   "execution_count": 1,
   "metadata": {
    "collapsed": false
   },
   "outputs": [],
   "source": [
    "using PyPlot, Compat, DataFrames"
   ]
  },
  {
   "cell_type": "code",
   "execution_count": 2,
   "metadata": {
    "collapsed": true
   },
   "outputs": [],
   "source": [
    "# Initially, there were \".\" values in [:CLASS_OF],[:GRAD], and [BAGSSOLD].\n",
    "# Converted them to -1 integers via Excel"
   ]
  },
  {
   "cell_type": "code",
   "execution_count": 3,
   "metadata": {
    "collapsed": false
   },
   "outputs": [
    {
     "data": {
      "text/plain": [
       "uniqueElements"
      ]
     },
     "execution_count": 3,
     "metadata": {},
     "output_type": "execute_result"
    }
   ],
   "source": [
    "\"\"\"\n",
    "Checks a column for all unique types, using a for loop and a Dictionary\n",
    "\"\"\"\n",
    "function uniqueElements(df,acc)\n",
    "    dimensions = size(df);\n",
    "    print(dimensions)\n",
    "    nRows = dimensions[1];\n",
    "    # @assert nCols == 1 #Ensure only 1 row\n",
    "    for element in df\n",
    "        acc[element] = get(acc,element,0)+1\n",
    "    end\n",
    "end"
   ]
  },
  {
   "cell_type": "code",
   "execution_count": null,
   "metadata": {
    "collapsed": false
   },
   "outputs": [],
   "source": [
    "dataDirectory = \"Student_Team_Competition_Syngenta_Data/\";\n",
    "file = \"EXPERIMENT DATA CSV (Cleaned).csv\";\n",
    "readData = dataDirectory * file;\n",
    "df = readtable(readData)"
   ]
  },
  {
   "cell_type": "code",
   "execution_count": null,
   "metadata": {
    "collapsed": false
   },
   "outputs": [],
   "source": [
    "MAPWORD = Dict([\n",
    "    (\"YEAR\",1),\n",
    "    (\"EXPERIMENT\",2),\n",
    "    (\"LOCATION\",3),\n",
    "    (\"VARIETY\",4),\n",
    "    (\"FAMILY\",5),\n",
    "    (\"CHECK\",6),\n",
    "    (\"RM\",7),\n",
    "    (\"REPNO\",8),\n",
    "    (\"YIELD\",9),\n",
    "    (\"CLASS_OF\",10),\n",
    "    (\"GRAD\",11),\n",
    "    (\"BAGSOLD\",12)\n",
    "])\n"
   ]
  },
  {
   "cell_type": "code",
   "execution_count": null,
   "metadata": {
    "collapsed": false
   },
   "outputs": [],
   "source": [
    "\"\"\"\n",
    "Function to check number of unique entries for\n",
    "whole dataframe\n",
    "\"\"\"\n",
    "function uniqueDataframe(df)\n",
    "    (m,n) = size(df)\n",
    "    acc = [];\n",
    "    for i in 1:n\n",
    "        dictacc = Dict{typeof(df[i][1]),Int64}()\n",
    "        push!(acc,dictacc)\n",
    "        uniqueElements(df[i],acc[i])\n",
    "    end\n",
    "    return acc\n",
    "end"
   ]
  },
  {
   "cell_type": "code",
   "execution_count": null,
   "metadata": {
    "collapsed": false
   },
   "outputs": [],
   "source": [
    "description = uniqueDataframe(df)\n",
    "description[4]; # VARIETY\n",
    "description[5]; # FAMILY\n",
    "description[10]; # CLASS_OF"
   ]
  },
  {
   "cell_type": "code",
   "execution_count": null,
   "metadata": {
    "collapsed": false
   },
   "outputs": [],
   "source": [
    "description[5]"
   ]
  },
  {
   "cell_type": "code",
   "execution_count": null,
   "metadata": {
    "collapsed": false
   },
   "outputs": [],
   "source": [
    "uniqueClassesDF = Dict{Int64,Int64}()\n",
    "uniqueElements(df[:CLASS_OF],uniqueClassesDF)\n",
    "uniqueClassesDF"
   ]
  },
  {
   "cell_type": "markdown",
   "metadata": {},
   "source": [
    "### Filter into Classes of 2011, 2012, 2013, 2014"
   ]
  },
  {
   "cell_type": "code",
   "execution_count": null,
   "metadata": {
    "collapsed": false
   },
   "outputs": [],
   "source": [
    "df11 = df[ df[:CLASS_OF].==2011, :];\n",
    "df12 = df[ df[:CLASS_OF].==2012, :];\n",
    "df13 = df[ df[:CLASS_OF].==2013, :];\n",
    "df14 = df[ df[:CLASS_OF].==2014, :];\n",
    "classdf_list = [df11,df12,df13,df14]"
   ]
  },
  {
   "cell_type": "code",
   "execution_count": null,
   "metadata": {
    "collapsed": false
   },
   "outputs": [],
   "source": [
    "description11 = uniqueDataframe(df11);\n",
    "description12 = uniqueDataframe(df12);\n",
    "description13 = uniqueDataframe(df13);\n",
    "description14 = uniqueDataframe(df14);"
   ]
  },
  {
   "cell_type": "markdown",
   "metadata": {},
   "source": [
    "### Filter each class of by the previous years (3 years ago)"
   ]
  },
  {
   "cell_type": "code",
   "execution_count": null,
   "metadata": {
    "collapsed": false
   },
   "outputs": [],
   "source": [
    "yearlist = 2009:2014\n",
    "df11_by_year = []; description11_by_year = [];\n",
    "df12_by_year = []; description12_by_year = [];\n",
    "df13_by_year = []; description13_by_year = [];\n",
    "df14_by_year = []; description14_by_year = [];\n",
    "\n",
    "df_by_year_list = [df11_by_year,df12_by_year,df13_by_year,df14_by_year];\n",
    "describe_by_year = [description11_by_year,description12_by_year,\n",
    "    description13_by_year,description14_by_year];\n",
    "\n",
    "for i in 1:length(classdf_list)\n",
    "    dfdummy = (classdf_list[i]);\n",
    "    println(\"OK\")\n",
    "    for year in yearlist\n",
    "        println((i,year))\n",
    "        cutdfdummy = dfdummy[dfdummy[:YEAR].==year,:];\n",
    "        push!(df_by_year_list[i],cutdfdummy);\n",
    "        push!(describe_by_year[i],uniqueDataframe(cutdfdummy) );\n",
    "    end\n",
    "end"
   ]
  },
  {
   "cell_type": "code",
   "execution_count": null,
   "metadata": {
    "collapsed": false
   },
   "outputs": [],
   "source": [
    "varIndex = get(MAPWORD,\"VARIETY\",9999)\n",
    "description11_by_year[1][varIndex]"
   ]
  },
  {
   "cell_type": "code",
   "execution_count": null,
   "metadata": {
    "collapsed": false
   },
   "outputs": [],
   "source": [
    "description11_by_year[2][varIndex]"
   ]
  },
  {
   "cell_type": "code",
   "execution_count": null,
   "metadata": {
    "collapsed": false
   },
   "outputs": [],
   "source": [
    "description11_by_year[3][varIndex]"
   ]
  },
  {
   "cell_type": "code",
   "execution_count": null,
   "metadata": {
    "collapsed": false
   },
   "outputs": [],
   "source": [
    "description11_by_year[4][varIndex]"
   ]
  },
  {
   "cell_type": "code",
   "execution_count": null,
   "metadata": {
    "collapsed": false
   },
   "outputs": [],
   "source": [
    "description11_by_year[5][varIndex]"
   ]
  },
  {
   "cell_type": "code",
   "execution_count": null,
   "metadata": {
    "collapsed": false
   },
   "outputs": [],
   "source": [
    "description11_by_year[6][varIndex]"
   ]
  },
  {
   "cell_type": "code",
   "execution_count": null,
   "metadata": {
    "collapsed": false
   },
   "outputs": [],
   "source": [
    "df_by_year_list[1][6]"
   ]
  },
  {
   "cell_type": "code",
   "execution_count": null,
   "metadata": {
    "collapsed": true
   },
   "outputs": [],
   "source": [
    "# Naming Convention\n",
    "# Classes 2011 2012 2013 2014\n",
    "# Years 2009 2010 2011 2012 2013 2014\n",
    "# So class 2011 year 2009 will be CLASS_2011_YEAR_2009.csv\n",
    "classlist = 2011:2014\n",
    "yearlist = 2009:2014\n",
    "#dataDirectory;\n",
    "stringlist = [];\n",
    "for class in classlist\n",
    "    strclass = string(class);\n",
    "    for year in yearlist\n",
    "        stryear = string(year);\n",
    "        PATHSTR = \"CLASS_\"*strclass*\"_\";\n",
    "        PATHSTR = PATHSTR*\"YEAR_\"*stryear*\".csv\";\n",
    "        PATHSTR = dataDirectory*PATHSTR;\n",
    "        push!(stringlist,PATHSTR);\n",
    "    end\n",
    "end\n",
    "i =1\n",
    "for alist in df_by_year_list\n",
    "    for frame in alist\n",
    "        writetable(stringlist[i],frame);\n",
    "        i = i + 1;\n",
    "    end\n",
    "end"
   ]
  },
  {
   "cell_type": "code",
   "execution_count": null,
   "metadata": {
    "collapsed": true
   },
   "outputs": [],
   "source": []
  }
 ],
 "metadata": {
  "kernelspec": {
   "display_name": "Julia 0.5.0-rc3",
   "language": "julia",
   "name": "julia-0.5"
  },
  "language_info": {
   "file_extension": ".jl",
   "mimetype": "application/julia",
   "name": "julia",
   "version": "0.5.0"
  }
 },
 "nbformat": 4,
 "nbformat_minor": 0
}
